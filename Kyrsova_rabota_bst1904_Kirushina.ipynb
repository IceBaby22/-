{
 "cells": [
  {
   "cell_type": "markdown",
   "metadata": {},
   "source": [
    "## Курсовая работа по дисциплине \"Структуры и алгоритмы обработки данных\"\n",
    "### Выполнила студентка группы БСТ1904 Кирюшина Анастасия\n",
    "### Задача 1. Строки\n",
    "\n",
    "Даны две строки: s1 и s2 с одинаковым размером, проверьте, может ли некоторая перестановка строки s1 “победить” некоторую перестановку строки s2 или наоборот. Строка x может “победить” строку y (обе имеют размер n), если x[i]> = y [i] (в алфавитном порядке) для всех i от 0 до n-1."
   ]
  },
  {
   "cell_type": "code",
   "execution_count": 61,
   "metadata": {},
   "outputs": [
    {
     "name": "stdout",
     "output_type": "stream",
     "text": [
      "abc, xya - True\n"
     ]
    }
   ],
   "source": [
    "    def wonStr(s,t):\n",
    "        if (len(s) != len(t)): return False # сравниваем строки\n",
    "        lst1=list(s)\n",
    "        lst2=list(t)\n",
    "        lst1.sort() # сортировка строки\n",
    "        lst2.sort()\n",
    "        pos=0\n",
    "        matches=True\n",
    "        for i in range (0,len(s)):\n",
    "                if lst2[i]>=lst1[i]: #сравниваем элементы\n",
    "                    pos=pos+1\n",
    "                else: matches=False\n",
    "\n",
    "        return matches\n",
    "\n",
    "print(\"abc, xya -\",wonStr(\"abc\",\"xya\"))"
   ]
  },
  {
   "cell_type": "markdown",
   "metadata": {},
   "source": [
    "### Задача 2. Строки\n",
    "Дана строка s, вернуть самую длинную полиндромную подстроку в s."
   ]
  },
  {
   "cell_type": "code",
   "execution_count": 11,
   "metadata": {},
   "outputs": [
    {
     "name": "stdout",
     "output_type": "stream",
     "text": [
      "booob\n"
     ]
    }
   ],
   "source": [
    "def palindrom(str1):\n",
    "    maxstr='' #Пустая строка\n",
    "    for i in range(len(str1)-1):\n",
    "        for j in range(i+1, len(str1)):\n",
    "            if str1[i:j+1]==str1[i:j+1][::-1] and len(maxstr)<len(str1[i:j+1]):\n",
    "                maxstr=str1[i:j+1]\n",
    "    return maxstr\n",
    "            \n",
    "print(palindrom(\"booobm\"))\n"
   ]
  },
  {
   "cell_type": "markdown",
   "metadata": {},
   "source": [
    "### Задача 3. Строки\n",
    "Вернуть количество отдельных непустых подстрок текста, которые могут быть записаны как конкатенация некоторой строки с самой собой (т.е. она может быть записана, как a + a, где a - некоторая строка)."
   ]
  },
  {
   "cell_type": "code",
   "execution_count": 13,
   "metadata": {},
   "outputs": [
    {
     "name": "stdout",
     "output_type": "stream",
     "text": [
      "abcabcabc --> 3\n"
     ]
    }
   ],
   "source": [
    " def dist(text):\n",
    "        result = set()\n",
    "        for l in range(1, len(text)//2+1):\n",
    "            count = sum(text[i] == text[i+l] for i in range(l))\n",
    "            for i in range(len(text)-2*l):\n",
    "                if count == l:\n",
    "                    result.add(text[i:i+l])\n",
    "                count += (text[i+l] == text[i+l+l]) - (text[i] == text[i+l])\n",
    "            if count == l:\n",
    "                result.add(text[len(text)-2*l:len(text)-2*l+l])\n",
    "        return len(result)\n",
    "\n",
    "print(\"abcabcabc -->\", dist(\"abcabcabc\"))"
   ]
  },
  {
   "cell_type": "markdown",
   "metadata": {},
   "source": [
    "### Задача 4. «Шарики и стрелы»\n",
    "Некоторые сферические шарики распределены по двухмерному пространству. Для каждого шарика даны x координаты начала и конца его горизонтального диаметра. Так как пространство двумерно, то y координаты не имеют значения в данной задаче. Координата x(start) всегда меньше x(end). Стрелу можно выстрелить строго вертикально (вдоль y оси) из разных точек x оси. Шарик с координатами xstart и xend уничтожается стрелой, если она была выпущена из такой позиции x, что x(start) ⩽ x ⩽ x(end). Когда стрела выпущена, она летит в пространстве бесконечное время (уничтожая все шарики на пути). Дан массив points, где points[i] = [x(start), x(end)]. Напишите функцию, возвращающую минимальное количество стрел, которые нужно выпустить, чтобы уничтожить все шарики."
   ]
  },
  {
   "cell_type": "code",
   "execution_count": 24,
   "metadata": {},
   "outputs": [
    {
     "name": "stdout",
     "output_type": "stream",
     "text": [
      "[[1, 10], [3, 9], [4, 11], [6, 7], [6, 9], [8, 12], [9, 12]]\n",
      "2\n"
     ]
    }
   ],
   "source": [
    "class shar:\n",
    "    def __init__(self, mass):\n",
    "        self.mass=mass\n",
    "        self.count=1\n",
    "    \n",
    "    def search(self):\n",
    "        if len(self.mass)==0: # длина массива\n",
    "            self.count=0 # стрелы\n",
    "        else:\n",
    "            m=0 # стрелы\n",
    "            for i in range(len(self.mass)):\n",
    "                self.mass.sort() # стрелы\n",
    "            print(self.mass)\n",
    "            for i in range(len(self.mass)-1):\n",
    "                if self.mass[m][1]<self.mass[i+1][0]:\n",
    "                    self.count=self.count+1 # попадание\n",
    "                    m=i+1 #сдвиг \n",
    "                elif self.mass[m][0]<=self.mass[i+1][0] and self.mass[m][1]>=self.mass[i+1][1]:\n",
    "                       m=i+1 #сдвиг\n",
    "                \n",
    "        return self.count\n",
    "            \n",
    "mass=[[9,12],[1,10],[4,11],[8,12],[3,9],[6,9],[6,7]]           \n",
    "a=shar(mass)\n",
    "print(a.search())"
   ]
  },
  {
   "cell_type": "markdown",
   "metadata": {},
   "source": [
    "### Задача 5. «Стопки монет»\n",
    "На столе стоят 3n стопок монет. Вы и ваши друзья Алиса и Боб забираете стопки монет по следующему алгоритму:\n",
    "\n",
    "###### 1 Вы выбираете 3 стопки монет из оставшихся на столе.\n",
    "###### 2 Алиса забирает себе стопку с максимальным количеством монет.\n",
    "###### 3 Вы забираете одну из двух оставшихся стопок.\n",
    "###### 4 Боб забирает последнюю стопку.\n",
    "\n",
    "Если еще остались стопки, то действия повторяются с первого шага.\n",
    "Дан массив целых положительных чисел piles. Напишите функцию, возвращающую максимальное число монет, которое вы можете получить."
   ]
  },
  {
   "cell_type": "code",
   "execution_count": 36,
   "metadata": {},
   "outputs": [
    {
     "name": "stdout",
     "output_type": "stream",
     "text": [
      "13\n"
     ]
    }
   ],
   "source": [
    "def moneti(arr):\n",
    "    arr.sort()\n",
    "    a=len(arr)//3\n",
    "    s=0\n",
    "    k  = 0\n",
    "    while a<len(arr):\n",
    "        max = 0 #макс для дев\n",
    "        max1 = 0 #макс для себя\n",
    "        for i in range (a,a+2):\n",
    "            if arr[i] > max:\n",
    "                max = arr[i]\n",
    "                k = i\n",
    "        for i in range (a,a+2):\n",
    "            if (arr[i] > max1) and (i!=k):\n",
    "                max1 = arr[i]\n",
    "           \n",
    "        s=s+max1\n",
    "        a=a+2   \n",
    "    return (s)\n",
    "\n",
    "print (moneti ( [2,4,5,9,4,11]))\n"
   ]
  },
  {
   "cell_type": "markdown",
   "metadata": {},
   "source": [
    "### Задача 6. «Объединение отрезков»\n",
    "Дан массив отрезков intervals, в котором intervals[i] = [start(i), end(i)], некоторые отрезки могут пересекаться. Напишите функцию, которая объединяет все пересекающиеся отрезки в один и возвращает новый массив непересекающихся отрезков"
   ]
  },
  {
   "cell_type": "code",
   "execution_count": 40,
   "metadata": {},
   "outputs": [
    {
     "name": "stdout",
     "output_type": "stream",
     "text": [
      "[[2, 7]]\n"
     ]
    }
   ],
   "source": [
    "def otr(interv):\n",
    "    interv.sort()\n",
    "    i=0\n",
    "    while i <len(interv)-1:\n",
    "        if interv[i][1]>=interv[i+1][0]:\n",
    "            a=interv.pop(0)\n",
    "            b=interv.pop(0)\n",
    "            interv.insert(0, [a[0],b[1]])\n",
    "        else:\n",
    "            i+=1            \n",
    "    return interv\n",
    "\n",
    "print (otr( [[2,8],[6,7]]))"
   ]
  },
  {
   "cell_type": "markdown",
   "metadata": {},
   "source": [
    "### Задача 7. «Треугольник с максимальным периметром»\n",
    "Массив A состоит из целых положительных чисел длин отрезков. Составьте из трех отрезков такой треугольник, чтобы его периметр был максимально возможным. Если невозможно составить треугольник с положительной площадью функция возвращает 0."
   ]
  },
  {
   "cell_type": "code",
   "execution_count": 43,
   "metadata": {},
   "outputs": [
    {
     "name": "stdout",
     "output_type": "stream",
     "text": [
      "[2, 1, 2] периметр: 5\n",
      "[5, 1, 1] Треугольника не существует\n"
     ]
    }
   ],
   "source": [
    "def Perimeter(arr):\n",
    "    maxim = 0\n",
    "    n = len(arr)\n",
    "    for i in range(n - 2):\n",
    "        for j in range(i + 1, n - 1):\n",
    "            for k in range(j + 1, n):  \n",
    "                a = arr[i]  # a, b, c - 3 стороны\n",
    "                b = arr[j]\n",
    "                c = arr[k]\n",
    "                if(a < b + c and b < a + c \n",
    "                             and c < a + b):\n",
    "                    maxim = max(maxim, a + b + c)\n",
    "    if(maxim == 0):\n",
    "        return (\"Треугольника не существует\")\n",
    "    else:\n",
    "        return (\"периметр: \"+ str(maxim))    \n",
    "    \n",
    "arr = [2, 1, 2]\n",
    "print(arr, Perimeter(arr))\n",
    "arr = [5, 1, 1]\n",
    "print(arr, Perimeter(arr))"
   ]
  },
  {
   "cell_type": "markdown",
   "metadata": {},
   "source": [
    "### Задача 8. «Максимальное число»\n",
    "Дан массив неотрицательных целых чисел nums. Расположите их в таком порядке, чтобы вместе они образовали максимально возможное число."
   ]
  },
  {
   "cell_type": "code",
   "execution_count": 58,
   "metadata": {},
   "outputs": [
    {
     "name": "stdout",
     "output_type": "stream",
     "text": [
      "4942210\n"
     ]
    }
   ],
   "source": [
    "nums = [49, 10, 4, 22]\n",
    "max_len = len(str(max(nums)))\n",
    "nums = [str(i) for i in nums]\n",
    "def maxim(s):\n",
    "    return s + s[-1] * (max_len - len(s))\n",
    "sort_list = sorted(nums, key=maxim, reverse=True)\n",
    "print(''.join(sort_list))"
   ]
  },
  {
   "cell_type": "markdown",
   "metadata": {},
   "source": [
    "### Задача 9. «Сортировка диагоналей в матрице»\n",
    "Дана матрица mat размером m * n, значения целочисленные. Напишите функцию, сортирующую каждую диагональ матрицы по возрастанию и возвращающую получившуюся матрицу."
   ]
  },
  {
   "cell_type": "code",
   "execution_count": 60,
   "metadata": {},
   "outputs": [
    {
     "name": "stdout",
     "output_type": "stream",
     "text": [
      "Исходная:\n",
      "[3, 3, 1, 1]\n",
      "[2, 2, 1, 2]\n",
      "[1, 1, 1, 2]\n",
      "Отсортированная: \n",
      "[1, 1, 1, 1]\n",
      "[1, 2, 2, 2]\n",
      "[1, 2, 3, 3]\n"
     ]
    }
   ],
   "source": [
    "def sortir(matrix):\n",
    "    m, n = len(matrix), len(matrix[0])\n",
    "    temp = [[] for i in range(m+n)]\n",
    "    for i in range(m):\n",
    "        for j in range(n):\n",
    "            temp[i - j].append(matrix[i][j])\n",
    "    for line in temp:\n",
    "        line.sort(reverse = True)\n",
    "    for i in range(m):\n",
    "        for j in range(n):\n",
    "            matrix[i][j] = temp[i-j].pop() # pop() - удаляет последний элемент массива и возвращает его\n",
    "    return matrix\n",
    "\n",
    "\n",
    "arr = [[3,3,1,1], [2,2,1,2], [1,1,1,2]]\n",
    "print(\"Исходная:\")\n",
    "for l in arr:\n",
    "    print(l) \n",
    "print(\"Отсортированная: \")\n",
    "arr = sortir(arr)\n",
    "for l in arr:\n",
    "    print(l)\n"
   ]
  }
 ],
 "metadata": {
  "kernelspec": {
   "display_name": "Python 3",
   "language": "python",
   "name": "python3"
  },
  "language_info": {
   "codemirror_mode": {
    "name": "ipython",
    "version": 3
   },
   "file_extension": ".py",
   "mimetype": "text/x-python",
   "name": "python",
   "nbconvert_exporter": "python",
   "pygments_lexer": "ipython3",
   "version": "3.8.5"
  }
 },
 "nbformat": 4,
 "nbformat_minor": 4
}
